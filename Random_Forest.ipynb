{
  "nbformat": 4,
  "nbformat_minor": 0,
  "metadata": {
    "colab": {
      "private_outputs": true,
      "provenance": [],
      "authorship_tag": "ABX9TyNcr1sRrRV65MXpro7xXf3o",
      "include_colab_link": true
    },
    "kernelspec": {
      "name": "python3",
      "display_name": "Python 3"
    },
    "language_info": {
      "name": "python"
    }
  },
  "cells": [
    {
      "cell_type": "markdown",
      "metadata": {
        "id": "view-in-github",
        "colab_type": "text"
      },
      "source": [
        "<a href=\"https://colab.research.google.com/github/DeboraOliver/Random_ML_studies/blob/main/Random_Forest.ipynb\" target=\"_parent\"><img src=\"https://colab.research.google.com/assets/colab-badge.svg\" alt=\"Open In Colab\"/></a>"
      ]
    },
    {
      "cell_type": "code",
      "execution_count": null,
      "metadata": {
        "id": "a0IrvfxaPqUV"
      },
      "outputs": [],
      "source": [
        "# Random Forest"
      ]
    },
    {
      "cell_type": "markdown",
      "source": [
        "# Nova seção"
      ],
      "metadata": {
        "id": "WQeFU_s229oG"
      }
    },
    {
      "cell_type": "code",
      "source": [
        "!pip install -q yfinance"
      ],
      "metadata": {
        "id": "N7sFSMXHPz5N"
      },
      "execution_count": null,
      "outputs": []
    },
    {
      "cell_type": "code",
      "source": [
        "import matplotlib.pyplot as plt\n",
        "import pandas as pd\n",
        "import numpy as np\n",
        "#if you get an error after executing the code, try adding below. pd.core.common.is_list_like = pd.api.types.is_list_like\n",
        "import pandas_datareader as pdr\n",
        "import datetime\n",
        "import yfinance as yf\n",
        "import requests\n",
        "import json\n",
        "\n",
        "from sklearn.model_selection import train_test_split\n",
        "from sklearn.preprocessing import StandardScaler #normalizar os dados\n",
        "from sklearn.decomposition import PCA\n",
        "from sklearn.metrics import mean_absolute_error\n",
        "from sklearn.ensemble import RandomForestRegressor\n",
        "\n",
        "from functools import reduce\n",
        "import plotly.express as px\n",
        "import plotly.graph_objects as go\n",
        "import seaborn as sns"
      ],
      "metadata": {
        "id": "NHtIkIvcP0qY"
      },
      "execution_count": null,
      "outputs": []
    },
    {
      "cell_type": "code",
      "source": [
        "start = datetime.datetime(2010, 1, 1)\n",
        "end = datetime.datetime(2022, 9, 5)\n",
        "# end = datetime.date.today()\n",
        "\n",
        "SP500 = pdr.DataReader(['sp500'], 'fred', start, end)\n",
        "SP500 = pd.DataFrame(SP500).reset_index()\n",
        "SP500.tail()"
      ],
      "metadata": {
        "id": "saPRIdq-P0v1"
      },
      "execution_count": null,
      "outputs": []
    },
    {
      "cell_type": "code",
      "source": [
        "vix = pdr.DataReader('VIXCLS', 'fred',start, end).dropna().squeeze()\n",
        "vix = pd.DataFrame(vix).reset_index()\n",
        "vix.tail()"
      ],
      "metadata": {
        "id": "7K09_f8TP6BV"
      },
      "execution_count": null,
      "outputs": []
    },
    {
      "cell_type": "code",
      "source": [
        "# acoes = ['PETR3.SA','AMER3.SA','GOLL4.SA', 'CVCB3.SA', 'WEGE3.SA', 'MGLU3.SA', 'TOTS3.SA', 'BOVA11.SA']\n",
        "acoes = ['WEGE3.SA',\"^BVSP\", \"USDBRL=x\",\"CL=F\"]\n",
        "\n",
        "acoes_df = pd.DataFrame()\n",
        "for acao in acoes:\n",
        "  #acoes_df[acao] = data.DataReader(acao, data_source='yahoo', start='2015-01-01')['Close']\n",
        "  acoes_df[acao] = yf.download(acao, start=start)['Close']\n",
        "\n",
        "acao_bovespa = acoes_df.reset_index().rename(columns={'Date': 'DATE','^BVSP':'bovespa','USDBRL=x':'dolar','CL=F':'bpetroleo'})\n",
        "acao_bovespa"
      ],
      "metadata": {
        "id": "jHTzoWO6P86n"
      },
      "execution_count": null,
      "outputs": []
    },
    {
      "cell_type": "code",
      "source": [
        "\n",
        "df = reduce(lambda x,y: pd.merge(x,y, on='DATE', how='left'), [acao_bovespa, vix, SP500])\n",
        "df= df.rename(columns={'VIXCLS': 'vix'})\n",
        "df=df.dropna(axis=0).reset_index().drop('index',axis=1)\n",
        "# df.isnull().sum()\n",
        "df.tail()"
      ],
      "metadata": {
        "id": "PLgrqIU2QBW9"
      },
      "execution_count": null,
      "outputs": []
    },
    {
      "cell_type": "code",
      "source": [
        "figura = plt.figure(figsize=(20,10))\n",
        "sns.heatmap(df.corr(), annot=True);"
      ],
      "metadata": {
        "id": "rRDrNCcDQBaZ"
      },
      "execution_count": null,
      "outputs": []
    },
    {
      "cell_type": "code",
      "source": [
        "# componentes = df.columns[1:].values\n",
        "# caracteristicas = df.loc[:, componentes]\n",
        "# df_normalizando = StandardScaler().fit_transform(caracteristicas)\n",
        "# df_normalizando"
      ],
      "metadata": {
        "id": "4A2kyy4Iz3nE"
      },
      "execution_count": null,
      "outputs": []
    },
    {
      "cell_type": "code",
      "source": [
        "acoes_df_normalizado = df.copy()\n",
        "for i in acoes_df_normalizado.columns[1:]:\n",
        "  acoes_df_normalizado[i] = acoes_df_normalizado[i] / acoes_df_normalizado[i][0]\n",
        "\n",
        "figura = px.line(title = 'Histórico do preço das ações - normalizado')\n",
        "for i in acoes_df_normalizado.columns[1:]:\n",
        "  figura.add_scatter(x = acoes_df_normalizado['DATE'], y = acoes_df_normalizado[i], name = i)\n",
        "figura.show()"
      ],
      "metadata": {
        "id": "ahkSQ8oEQEPf"
      },
      "execution_count": null,
      "outputs": []
    },
    {
      "cell_type": "code",
      "source": [
        "# normalizar\n",
        "for i in df.columns[1:]:\n",
        "  df[i] = acoes_df_normalizado[i] / acoes_df_normalizado[i][0]\n",
        "df.tail()"
      ],
      "metadata": {
        "id": "ntXd_a11QJht"
      },
      "execution_count": null,
      "outputs": []
    },
    {
      "cell_type": "code",
      "source": [
        "#detrend\n",
        "from scipy import signal\n",
        "\n",
        "detrended = signal.detrend(df['WEGE3.SA'])\n",
        "\n",
        "detrended_df = pd.DataFrame(detrended)\n",
        "detrended_df.plot()\n"
      ],
      "metadata": {
        "id": "dVQeIS-D6b7j"
      },
      "execution_count": null,
      "outputs": []
    },
    {
      "cell_type": "markdown",
      "source": [
        "# PCA"
      ],
      "metadata": {
        "id": "lUv8O_Aryy8s"
      }
    },
    {
      "cell_type": "code",
      "source": [
        "# pca = PCA(n_components= 2)\n",
        "# principalcomponente = pca.fit_transform(df_normalizando)\n",
        "# # principalcomponente\n",
        "# df_pca = pd.DataFrame(data = principalcomponente, columns = ['PC1', 'PC2'])\n",
        "# df_final = pd.concat([df_pca,df[['DATE']]],axis = 1)\n",
        "# df_final"
      ],
      "metadata": {
        "id": "b_H94DqMy2n7"
      },
      "execution_count": null,
      "outputs": []
    },
    {
      "cell_type": "code",
      "source": [
        "#o que eu quero prever: o valor da ação\n",
        "y_objetivo = df.iloc[len(df) - 60: ,1].values\n",
        "#previsor\n",
        "X_previsor = df.iloc[len(df) - 60:,2:7].values\n",
        "# X_previsor"
      ],
      "metadata": {
        "id": "jqGLDbq1Q_ND"
      },
      "execution_count": null,
      "outputs": []
    },
    {
      "cell_type": "code",
      "source": [
        "X_previsor_treinamento, X_previsor_teste, y_objetivo_treinamento, y_objetivo_teste = train_test_split(X_previsor, y_objetivo, test_size = 0.3, random_state = 0)\n",
        "#deixamos 70% para treinamento e 30% para testes\n",
        "#random state = 0 para que sempre seja a msm divisão com os msm registros\n",
        "X_previsor_treinamento.shape, y_objetivo_treinamento.shape"
      ],
      "metadata": {
        "id": "FlzeJ0OuQKnL"
      },
      "execution_count": null,
      "outputs": []
    },
    {
      "cell_type": "code",
      "source": [
        "# regressor_random_forest_saude = RandomForestRegressor(n_estimators = 10)\n",
        "regressor_random_forest_acoes = RandomForestRegressor(n_estimators=1500)\n",
        "regressor_random_forest_acoes.fit(X_previsor_treinamento, y_objetivo_treinamento)\n",
        "\n",
        "print(\"Score de treinamento \", regressor_random_forest_acoes.score(X_previsor_treinamento, y_objetivo_treinamento))\n",
        "print(\"Score de teste \", regressor_random_forest_acoes.score(X_previsor_teste, y_objetivo_teste))"
      ],
      "metadata": {
        "id": "deNTouZrQTlb"
      },
      "execution_count": null,
      "outputs": []
    },
    {
      "cell_type": "code",
      "source": [
        "previsoes = regressor_random_forest_acoes.predict(X_previsor_teste)\n",
        "previsoes[0:5]"
      ],
      "metadata": {
        "id": "GCJVbie-QV4y"
      },
      "execution_count": null,
      "outputs": []
    },
    {
      "cell_type": "code",
      "source": [
        "y_objetivo_teste[0:5]"
      ],
      "metadata": {
        "id": "3hZ8lmWDQV7o"
      },
      "execution_count": null,
      "outputs": []
    },
    {
      "cell_type": "code",
      "source": [
        "figura = plt.figure(figsize=(20,10))\n",
        "plt.plot(y_objetivo_teste, label='Expected')\n",
        "plt.plot(previsoes, label='Predicted')\n",
        "plt.legend()\n",
        "plt.show()"
      ],
      "metadata": {
        "id": "yGfITieiQTpA"
      },
      "execution_count": null,
      "outputs": []
    },
    {
      "cell_type": "code",
      "source": [
        "\n",
        "mean_absolute_error(y_objetivo_teste, previsoes)"
      ],
      "metadata": {
        "id": "uI8kkCGwQLAT"
      },
      "execution_count": null,
      "outputs": []
    },
    {
      "cell_type": "code",
      "source": [
        "# Calculate feature importance and store in pandas series\n",
        "feature_imp = pd.Series(regressor_random_forest_acoes.feature_importances_, index=df.iloc[:,2:7].columns).sort_values(ascending=False)\n",
        "feature_imp"
      ],
      "metadata": {
        "id": "Sf6joQPQQoH9"
      },
      "execution_count": null,
      "outputs": []
    },
    {
      "cell_type": "code",
      "source": [
        "last_60_days = df.iloc[:,2:7].values\n",
        "last_60_days\n",
        "# scaler = MinMaxScaler(feature_range=(0,1))\n",
        "# X_test = []\n",
        "# #append the past 60 days\n",
        "# X_test.append(last_60_days)\n",
        "# #convert the x_test data set to a numpy array\n",
        "# X_test = np.array(X_test)\n",
        "# #Reshape the data\n",
        "# X_test = np.reshape(X_test.shape[0], X_test.shape[1])\n",
        "#Get the predict scaled price\n",
        "# pred_price = regressor_random_forest_acoes.predict(last_60_days)\n",
        "#undo the scaling\n",
        "# pred_price = StandardScaler.inverse_transform(pred_price)\n",
        "# print(pred_price[-5:])\n",
        "\n",
        "# last_60_days = new_df[-60:].values\n",
        "# #Scale the data to be values between 0 and 1\n",
        "# last_60_days_scaled = scaler.transform(last_60_days)\n",
        "# #Create an empty list\n",
        "# X_test = []\n",
        "# # #append the past 60 days\n",
        "# X_test.append(last_60_days_scaled)\n",
        "# # #convert the x_test data set to a numpy array\n",
        "# X_test = np.array(X_test)\n",
        "# # #Reshape the data\n",
        "# X_test = np.reshape(X_test, (X_test.shape[0], X_test.shape[1],1))\n",
        "# #Get the predict scaled price\n",
        "# pred_price = model.predict(X_test)\n",
        "# #undo the scaling\n",
        "# pred_price = scaler.inverse_transform(pred_price)\n",
        "# print(pred_price)"
      ],
      "metadata": {
        "id": "obT_-HLVRBFC"
      },
      "execution_count": null,
      "outputs": []
    },
    {
      "cell_type": "code",
      "source": [
        "df.tail()"
      ],
      "metadata": {
        "id": "Bgjvw4H1Sxy8"
      },
      "execution_count": null,
      "outputs": []
    },
    {
      "cell_type": "code",
      "source": [
        "last_60_days.shape"
      ],
      "metadata": {
        "id": "k225kQABTBUR"
      },
      "execution_count": null,
      "outputs": []
    },
    {
      "cell_type": "code",
      "source": [],
      "metadata": {
        "id": "saAWvZkTUgc6"
      },
      "execution_count": null,
      "outputs": []
    }
  ]
}