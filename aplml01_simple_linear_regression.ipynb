{
  "nbformat": 4,
  "nbformat_minor": 0,
  "metadata": {
    "colab": {
      "name": "aplml01_simple_linear_regression.ipynb",
      "private_outputs": true,
      "provenance": [],
      "authorship_tag": "ABX9TyPWcLpDCc5E0BJIefhEvHhK",
      "include_colab_link": true
    },
    "kernelspec": {
      "name": "python3",
      "display_name": "Python 3"
    },
    "language_info": {
      "name": "python"
    }
  },
  "cells": [
    {
      "cell_type": "markdown",
      "metadata": {
        "id": "view-in-github",
        "colab_type": "text"
      },
      "source": [
        "<a href=\"https://colab.research.google.com/github/DeboraOliver/Random_ML_studies/blob/main/aplml01_simple_linear_regression.ipynb\" target=\"_parent\"><img src=\"https://colab.research.google.com/assets/colab-badge.svg\" alt=\"Open In Colab\"/></a>"
      ]
    },
    {
      "cell_type": "code",
      "execution_count": null,
      "metadata": {
        "id": "bC0h9DXYcsDQ"
      },
      "outputs": [],
      "source": [
        "\"\"\"\n",
        "course: applied ML\n",
        "unit: 1\"\"\"\n",
        "!pip install wget\n",
        "\n",
        "import pandas as pd\n",
        "import numpy as np\n",
        "import matplotlib.pyplot as plt\n",
        "from sklearn import linear_model\n",
        "from sklearn.metrics import r2_score\n",
        "import wget\n"
      ]
    },
    {
      "cell_type": "code",
      "source": [
        "fname= wget.download('https://s3-api.us-geo.objectstorage.softlayer.net/cf-courses-data/CognitiveClass/ML0101ENv3/labs/FuelConsumptionCo2.csv')\n",
        "df = pd.read_csv(fname)\n",
        "df.head(2)"
      ],
      "metadata": {
        "id": "x21czdeueqN9"
      },
      "execution_count": null,
      "outputs": []
    },
    {
      "cell_type": "code",
      "source": [
        "df =df[[\"ENGINESIZE\",\"CO2EMISSIONS\"]]\n",
        "df"
      ],
      "metadata": {
        "id": "3zLT1IAHgD06"
      },
      "execution_count": null,
      "outputs": []
    },
    {
      "cell_type": "code",
      "source": [
        "#visualização\n",
        "plt.scatter(df[\"ENGINESIZE\"], df[\"CO2EMISSIONS\"],color= 'green')\n",
        "plt.xlabel(\"tamanho do motor\")\n",
        "plt.ylabel(\"emissão de co2\")\n",
        "plt.show()"
      ],
      "metadata": {
        "id": "kFCdhBOjfu6n"
      },
      "execution_count": null,
      "outputs": []
    },
    {
      "cell_type": "code",
      "source": [
        "# divisão dos dados em dois grupos: teste(20%) e treino (80%)\n",
        "\n",
        "treino = df[:(int((len(df)*0.8)))]\n",
        "teste = df[(int((len(df)*0.8))):]\n",
        "\n",
        "print(len(treino), len(teste))"
      ],
      "metadata": {
        "id": "htXA4qzAgqc4"
      },
      "execution_count": null,
      "outputs": []
    },
    {
      "cell_type": "code",
      "source": [
        "#treinamento do modelo\n",
        "regressao = linear_model.LinearRegression()\n",
        "\n",
        "treino_x = np.array(treino[[\"ENGINESIZE\"]])\n",
        "treino_y = np.array(treino[[\"CO2EMISSIONS\"]])\n",
        "\n",
        "regressao.fit(treino_x, treino_y)\n",
        "\n",
        "print(\"coeficiente de regressão\", regressao.coef_)\n",
        "print(\"interceptação\", regressao.intercept_)"
      ],
      "metadata": {
        "id": "vX3iMNwehb3A"
      },
      "execution_count": null,
      "outputs": []
    },
    {
      "cell_type": "code",
      "source": [
        "#visualização com a linha de ajuste\n",
        "plt.scatter(treino[\"ENGINESIZE\"], treino[\"CO2EMISSIONS\"],color = 'green')\n",
        "plt.plot(treino_x,regressao.coef_*treino_x + regressao.intercept_, '-r')\n",
        "plt.xlabel(\"tamanho do motos\")\n",
        "plt.ylabel(\"emissão de co2\")"
      ],
      "metadata": {
        "id": "ICTCGqvNiP1F"
      },
      "execution_count": null,
      "outputs": []
    },
    {
      "cell_type": "code",
      "source": [
        "#elaboracao d euma função de previsao\n",
        "\n",
        "def obter_previsao_regressao(motor, interceptacao, coef_regressao):\n",
        "  valores_previstos = motor*coef_regressao + interceptacao\n",
        "\n",
        "  return valores_previstos\n",
        "\n",
        "tamanho_motor = 3.5\n",
        "\n",
        "emissao_estimada = obter_previsao_regressao(tamanho_motor,regressao.intercept_[0],regressao.coef_[0][0])\n",
        "print(\"Emissao estimada para este tamanho de motor\", emissao_estimada)"
      ],
      "metadata": {
        "id": "a8X1WdyWi-wh"
      },
      "execution_count": null,
      "outputs": []
    },
    {
      "cell_type": "code",
      "source": [
        "# verificando a precisão do modeloocomparando os valores reais com os valores que foram previstos\n",
        "\n",
        "teste_x = np.array(treino[[\"ENGINESIZE\"]])\n",
        "teste_y = np.array(treino[[\"CO2EMISSIONS\"]])\n",
        "teste_y_ = regressao.predict(teste_x)\n",
        "\n",
        "print(\"Erro médio absoluto\",np.mean(np.absolute(teste_y_ - teste_y)))\n",
        "print(\"Média da soma dos quadrados: \", np.mean((teste_y_ - teste_y)**2))\n",
        "print(\"R2-Score: \", r2_score(teste_y_, teste_y))"
      ],
      "metadata": {
        "id": "Jm3QBjXRkEQv"
      },
      "execution_count": null,
      "outputs": []
    },
    {
      "cell_type": "code",
      "source": [
        ""
      ],
      "metadata": {
        "id": "SbL66leilYBg"
      },
      "execution_count": null,
      "outputs": []
    }
  ]
}